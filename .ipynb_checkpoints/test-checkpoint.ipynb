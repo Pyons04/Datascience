{
 "cells": [
  {
   "cell_type": "code",
   "execution_count": 3,
   "metadata": {},
   "outputs": [
    {
     "name": "stdout",
     "output_type": "stream",
     "text": [
      "17\n"
     ]
    }
   ],
   "source": [
    "x=8\n",
    "y=9\n",
    "z=x+y\n",
    "print(z)"
   ]
  },
  {
   "cell_type": "code",
   "execution_count": 4,
   "metadata": {},
   "outputs": [],
   "source": [
    "import numpy as np\n"
   ]
  },
  {
   "cell_type": "code",
   "execution_count": 5,
   "metadata": {},
   "outputs": [
    {
     "ename": "AttributeError",
     "evalue": "module 'numpy' has no attribute 'arrange'",
     "output_type": "error",
     "traceback": [
      "\u001b[1;31m---------------------------------------------------------------------------\u001b[0m",
      "\u001b[1;31mAttributeError\u001b[0m                            Traceback (most recent call last)",
      "\u001b[1;32m<ipython-input-5-41755f4ab87f>\u001b[0m in \u001b[0;36m<module>\u001b[1;34m()\u001b[0m\n\u001b[1;32m----> 1\u001b[1;33m \u001b[0mx\u001b[0m\u001b[1;33m=\u001b[0m\u001b[0mnp\u001b[0m\u001b[1;33m.\u001b[0m\u001b[0marrange\u001b[0m\u001b[1;33m(\u001b[0m\u001b[1;36m1\u001b[0m\u001b[1;33m,\u001b[0m\u001b[1;36m11\u001b[0m\u001b[1;33m)\u001b[0m\u001b[1;33m\u001b[0m\u001b[0m\n\u001b[0m",
      "\u001b[1;31mAttributeError\u001b[0m: module 'numpy' has no attribute 'arrange'"
     ]
    }
   ],
   "source": [
    "x=np.arrange(1,11)"
   ]
  },
  {
   "cell_type": "code",
   "execution_count": 6,
   "metadata": {},
   "outputs": [],
   "source": [
    "x=np.arange(1,11)"
   ]
  },
  {
   "cell_type": "code",
   "execution_count": 7,
   "metadata": {},
   "outputs": [],
   "source": [
    "x=np.arange(30)"
   ]
  },
  {
   "cell_type": "code",
   "execution_count": 8,
   "metadata": {},
   "outputs": [
    {
     "name": "stdout",
     "output_type": "stream",
     "text": [
      "[ 0  1  2  3  4  5  6  7  8  9 10 11 12 13 14 15 16 17 18 19 20 21 22 23 24\n",
      " 25 26 27 28 29]\n"
     ]
    }
   ],
   "source": [
    "print(x)"
   ]
  },
  {
   "cell_type": "code",
   "execution_count": 9,
   "metadata": {},
   "outputs": [
    {
     "name": "stdout",
     "output_type": "stream",
     "text": [
      "[ 1  2  3  4  5  6  7  8  9 10 11 12 13 14 15 16 17 18 19 20 21 22 23 24 25\n",
      " 26 27 28 29]\n"
     ]
    }
   ],
   "source": [
    "x=np.arange(1,30)\n",
    "print(x)"
   ]
  },
  {
   "cell_type": "code",
   "execution_count": 10,
   "metadata": {},
   "outputs": [
    {
     "name": "stdout",
     "output_type": "stream",
     "text": [
      "[ 3  6  9 12 15 18 21 24 27 30 33 36 39 42 45 48 51 54 57 60 63 66 69 72 75\n",
      " 78 81 84 87]\n"
     ]
    }
   ],
   "source": [
    "a=3\n",
    "y=a*x\n",
    "print(y)"
   ]
  },
  {
   "cell_type": "code",
   "execution_count": 11,
   "metadata": {},
   "outputs": [],
   "source": [
    "import matplotlib.pyplot as plt\n",
    "%matplotlib inline"
   ]
  },
  {
   "cell_type": "code",
   "execution_count": 14,
   "metadata": {},
   "outputs": [
    {
     "data": {
      "text/plain": [
       "[<matplotlib.lines.Line2D at 0x6c56670>]"
      ]
     },
     "execution_count": 14,
     "metadata": {},
     "output_type": "execute_result"
    },
    {
     "data": {
      "image/png": "[encoded data removed]",
      "text/plain": [
       "<matplotlib.figure.Figure at 0x6a41610>"
      ]
     },
     "metadata": {},
     "output_type": "display_data"
    }
   ],
   "source": [
    "plt.plot(x,y)\n"
   ]
  },
  {
   "cell_type": "code",
   "execution_count": 18,
   "metadata": {},
   "outputs": [
    {
     "data": {
      "text/plain": [
       "29"
      ]
     },
     "execution_count": 18,
     "metadata": {},
     "output_type": "execute_result"
    }
   ],
   "source": [
    "x=np.arange(1,30)\n",
    "x.max()"
   ]
  },
  {
   "cell_type": "code",
   "execution_count": 20,
   "metadata": {},
   "outputs": [
    {
     "data": {
      "text/plain": [
       "[<matplotlib.lines.Line2D at 0x152fe90>]"
      ]
     },
     "execution_count": 20,
     "metadata": {},
     "output_type": "execute_result"
    },
    {
     "data": {
      "image/png": "[encoded data removed]",
      "text/plain": [
       "<matplotlib.figure.Figure at 0x14c3330>"
      ]
     },
     "metadata": {},
     "output_type": "display_data"
    }
   ],
   "source": [
    "plt.xlim(x.min(),x.max())\n",
    "plt.ylim(y.min(),y.max())\n",
    "plt.plot(x,y)"
   ]
  },
  {
   "cell_type": "code",
   "execution_count": 23,
   "metadata": {},
   "outputs": [],
   "source": [
    "x=np.linspace(start=1,stop=50,num=100)\n",
    "y=np.linspace(start=1,stop=50,num=100)"
   ]
  },
  {
   "cell_type": "code",
   "execution_count": 24,
   "metadata": {},
   "outputs": [
    {
     "name": "stdout",
     "output_type": "stream",
     "text": [
      "[  1.           1.49494949   1.98989899   2.48484848   2.97979798\n",
      "   3.47474747   3.96969697   4.46464646   4.95959596   5.45454545\n",
      "   5.94949495   6.44444444   6.93939394   7.43434343   7.92929293\n",
      "   8.42424242   8.91919192   9.41414141   9.90909091  10.4040404\n",
      "  10.8989899   11.39393939  11.88888889  12.38383838  12.87878788\n",
      "  13.37373737  13.86868687  14.36363636  14.85858586  15.35353535\n",
      "  15.84848485  16.34343434  16.83838384  17.33333333  17.82828283\n",
      "  18.32323232  18.81818182  19.31313131  19.80808081  20.3030303\n",
      "  20.7979798   21.29292929  21.78787879  22.28282828  22.77777778\n",
      "  23.27272727  23.76767677  24.26262626  24.75757576  25.25252525\n",
      "  25.74747475  26.24242424  26.73737374  27.23232323  27.72727273\n",
      "  28.22222222  28.71717172  29.21212121  29.70707071  30.2020202\n",
      "  30.6969697   31.19191919  31.68686869  32.18181818  32.67676768\n",
      "  33.17171717  33.66666667  34.16161616  34.65656566  35.15151515\n",
      "  35.64646465  36.14141414  36.63636364  37.13131313  37.62626263\n",
      "  38.12121212  38.61616162  39.11111111  39.60606061  40.1010101\n",
      "  40.5959596   41.09090909  41.58585859  42.08080808  42.57575758\n",
      "  43.07070707  43.56565657  44.06060606  44.55555556  45.05050505\n",
      "  45.54545455  46.04040404  46.53535354  47.03030303  47.52525253\n",
      "  48.02020202  48.51515152  49.01010101  49.50505051  50.        ] [  1.           1.49494949   1.98989899   2.48484848   2.97979798\n",
      "   3.47474747   3.96969697   4.46464646   4.95959596   5.45454545\n",
      "   5.94949495   6.44444444   6.93939394   7.43434343   7.92929293\n",
      "   8.42424242   8.91919192   9.41414141   9.90909091  10.4040404\n",
      "  10.8989899   11.39393939  11.88888889  12.38383838  12.87878788\n",
      "  13.37373737  13.86868687  14.36363636  14.85858586  15.35353535\n",
      "  15.84848485  16.34343434  16.83838384  17.33333333  17.82828283\n",
      "  18.32323232  18.81818182  19.31313131  19.80808081  20.3030303\n",
      "  20.7979798   21.29292929  21.78787879  22.28282828  22.77777778\n",
      "  23.27272727  23.76767677  24.26262626  24.75757576  25.25252525\n",
      "  25.74747475  26.24242424  26.73737374  27.23232323  27.72727273\n",
      "  28.22222222  28.71717172  29.21212121  29.70707071  30.2020202\n",
      "  30.6969697   31.19191919  31.68686869  32.18181818  32.67676768\n",
      "  33.17171717  33.66666667  34.16161616  34.65656566  35.15151515\n",
      "  35.64646465  36.14141414  36.63636364  37.13131313  37.62626263\n",
      "  38.12121212  38.61616162  39.11111111  39.60606061  40.1010101\n",
      "  40.5959596   41.09090909  41.58585859  42.08080808  42.57575758\n",
      "  43.07070707  43.56565657  44.06060606  44.55555556  45.05050505\n",
      "  45.54545455  46.04040404  46.53535354  47.03030303  47.52525253\n",
      "  48.02020202  48.51515152  49.01010101  49.50505051  50.        ]\n"
     ]
    }
   ],
   "source": [
    "print(x,y)\n"
   ]
  },
  {
   "cell_type": "code",
   "execution_count": 26,
   "metadata": {},
   "outputs": [
    {
     "name": "stdout",
     "output_type": "stream",
     "text": [
      "[  1.49494949  49.50505051  25.25252525  36.63636364  32.18181818\n",
      "  41.09090909  40.5959596   28.71717172   3.47474747  31.68686869\n",
      "  29.21212121  24.26262626  13.37373737  15.35353535  39.60606061\n",
      "  17.33333333  42.57575758  13.86868687  14.85858586   7.92929293\n",
      "  26.73737374  34.65656566   8.42424242  18.81818182  48.51515152\n",
      "  11.88888889  29.70707071  44.06060606  19.80808081  36.14141414\n",
      "  33.66666667  10.4040404   37.62626263  15.84848485  30.2020202\n",
      "  16.34343434  27.72727273  38.61616162  23.27272727  32.67676768\n",
      "  46.04040404  14.36363636  20.3030303   16.83838384  23.76767677\n",
      "   5.94949495  19.31313131   2.97979798   9.90909091  37.13131313\n",
      "  10.8989899    1.98989899  30.6969697    8.91919192   6.93939394\n",
      "  24.75757576   1.          21.78787879  43.07070707  22.77777778\n",
      "   3.96969697  11.39393939  50.          26.24242424  34.16161616\n",
      "   4.95959596  42.08080808   7.43434343  17.82828283  44.55555556\n",
      "  47.52525253   5.45454545  33.17171717  38.12121212  47.03030303\n",
      "  20.7979798   49.01010101  12.38383838   2.48484848  45.05050505\n",
      "  48.02020202   6.44444444  21.29292929  35.64646465  22.28282828\n",
      "  31.19191919  12.87878788  45.54545455  28.22222222   9.41414141\n",
      "  46.53535354  35.15151515  27.23232323   4.46464646  39.11111111\n",
      "  43.56565657  25.74747475  41.58585859  40.1010101   18.32323232]\n"
     ]
    }
   ],
   "source": [
    "np.random.shuffle(x)\n",
    "print(x)"
   ]
  },
  {
   "cell_type": "code",
   "execution_count": 27,
   "metadata": {},
   "outputs": [
    {
     "data": {
      "text/plain": [
       "<matplotlib.collections.PathCollection at 0x15a22d0>"
      ]
     },
     "execution_count": 27,
     "metadata": {},
     "output_type": "execute_result"
    },
    {
     "data": {
      "image/png": "[encoded data removed]",
      "text/plain": [
       "<matplotlib.figure.Figure at 0x154c8d0>"
      ]
     },
     "metadata": {},
     "output_type": "display_data"
    }
   ],
   "source": [
    "plt.scatter(x,y,c='red',marker='^')"
   ]
  },
  {
   "cell_type": "code",
   "execution_count": 30,
   "metadata": {},
   "outputs": [
    {
     "name": "stdout",
     "output_type": "stream",
     "text": [
      "29\n"
     ]
    }
   ],
   "source": [
    "x=np.arange(1,30)\n",
    "print(x.max())"
   ]
  },
  {
   "cell_type": "code",
   "execution_count": 33,
   "metadata": {},
   "outputs": [
    {
     "name": "stdout",
     "output_type": "stream",
     "text": [
      "[  1.           1.49494949   1.98989899   2.48484848   2.97979798\n",
      "   3.47474747   3.96969697   4.46464646   4.95959596   5.45454545\n",
      "   5.94949495   6.44444444   6.93939394   7.43434343   7.92929293\n",
      "   8.42424242   8.91919192   9.41414141   9.90909091  10.4040404\n",
      "  10.8989899   11.39393939  11.88888889  12.38383838  12.87878788\n",
      "  13.37373737  13.86868687  14.36363636  14.85858586  15.35353535\n",
      "  15.84848485  16.34343434  16.83838384  17.33333333  17.82828283\n",
      "  18.32323232  18.81818182  19.31313131  19.80808081  20.3030303\n",
      "  20.7979798   21.29292929  21.78787879  22.28282828  22.77777778\n",
      "  23.27272727  23.76767677  24.26262626  24.75757576  25.25252525\n",
      "  25.74747475  26.24242424  26.73737374  27.23232323  27.72727273\n",
      "  28.22222222  28.71717172  29.21212121  29.70707071  30.2020202\n",
      "  30.6969697   31.19191919  31.68686869  32.18181818  32.67676768\n",
      "  33.17171717  33.66666667  34.16161616  34.65656566  35.15151515\n",
      "  35.64646465  36.14141414  36.63636364  37.13131313  37.62626263\n",
      "  38.12121212  38.61616162  39.11111111  39.60606061  40.1010101\n",
      "  40.5959596   41.09090909  41.58585859  42.08080808  42.57575758\n",
      "  43.07070707  43.56565657  44.06060606  44.55555556  45.05050505\n",
      "  45.54545455  46.04040404  46.53535354  47.03030303  47.52525253\n",
      "  48.02020202  48.51515152  49.01010101  49.50505051  50.        ]\n"
     ]
    }
   ],
   "source": [
    "x=np.linspace(start=1,stop=50,num=100)\n",
    "print(x)\n"
   ]
  },
  {
   "cell_type": "code",
   "execution_count": 34,
   "metadata": {},
   "outputs": [
    {
     "name": "stdout",
     "output_type": "stream",
     "text": [
      "[ 28.22222222  33.17171717   1.49494949  21.29292929   4.95959596\n",
      "  43.07070707  19.80808081  40.5959596   13.86868687  35.64646465\n",
      "  30.6969697   43.56565657   7.43434343  45.05050505  12.38383838\n",
      "   9.90909091  25.74747475  36.14141414  15.35353535  23.76767677\n",
      "  33.66666667  29.70707071  27.72727273  20.7979798   20.3030303\n",
      "  35.15151515  37.62626263  41.58585859  12.87878788  32.67676768\n",
      "  16.34343434  49.50505051  31.68686869  18.32323232  24.75757576\n",
      "  42.08080808  30.2020202   39.11111111  39.60606061   6.44444444\n",
      "   3.96969697   8.91919192  31.19191919  13.37373737  10.4040404\n",
      "  46.53535354  46.04040404  22.77777778  18.81818182  47.52525253\n",
      "   7.92929293  38.61616162   2.97979798  17.82828283  14.36363636\n",
      "  22.28282828  29.21212121   5.94949495  48.51515152  42.57575758\n",
      "   6.93939394  26.24242424   4.46464646  44.55555556  14.85858586\n",
      "  23.27272727  21.78787879  38.12121212  27.23232323  34.65656566\n",
      "  15.84848485  37.13131313   1.          45.54545455  32.18181818\n",
      "  10.8989899    5.45454545  47.03030303  11.39393939  34.16161616\n",
      "   9.41414141  36.63636364   1.98989899  17.33333333  41.09090909\n",
      "   2.48484848  24.26262626  49.01010101  44.06060606  25.25252525\n",
      "  48.02020202  16.83838384  11.88888889  19.31313131   3.47474747\n",
      "  40.1010101   28.71717172  26.73737374   8.42424242  50.        ]\n"
     ]
    }
   ],
   "source": [
    "np.random.shuffle(x)\n",
    "print(x)\n"
   ]
  },
  {
   "cell_type": "code",
   "execution_count": 36,
   "metadata": {},
   "outputs": [
    {
     "name": "stdout",
     "output_type": "stream",
     "text": [
      "[ 32.18181818   8.42424242  37.13131313  17.33333333  24.75757576\n",
      "  34.65656566  12.87878788  33.66666667   8.91919192  18.32323232\n",
      "  46.04040404  26.24242424   9.90909091  17.82828283  29.21212121\n",
      "  15.84848485  21.78787879  36.14141414  47.52525253  47.03030303\n",
      "  21.29292929  27.72727273  19.80808081  30.6969697   20.3030303\n",
      "   1.98989899  40.1010101   22.28282828  43.07070707  38.12121212\n",
      "  10.8989899   39.11111111  33.17171717  30.2020202   50.          28.22222222\n",
      "  37.62626263  25.74747475  49.01010101  16.83838384   7.92929293\n",
      "  35.15151515  48.51515152  38.61616162  28.71717172  24.26262626\n",
      "   2.48484848  25.25252525   7.43434343  49.50505051   5.94949495\n",
      "  12.38383838   6.93939394  40.5959596   45.05050505  23.27272727\n",
      "  11.39393939  31.19191919  44.55555556  42.08080808  22.77777778\n",
      "  44.06060606  19.31313131  43.56565657  13.37373737  16.34343434\n",
      "   6.44444444  29.70707071  36.63636364   5.45454545  26.73737374\n",
      "  31.68686869  39.60606061  34.16161616  18.81818182   9.41414141\n",
      "  10.4040404   41.58585859   4.95959596  20.7979798   45.54545455\n",
      "  27.23232323  48.02020202   3.96969697  14.36363636  35.64646465\n",
      "  41.09090909  14.85858586  46.53535354   1.49494949  42.57575758\n",
      "   3.47474747   4.46464646  23.76767677  11.88888889   2.97979798\n",
      "  15.35353535   1.          13.86868687  32.67676768]\n"
     ]
    }
   ],
   "source": [
    "np.random.shuffle(y)\n",
    "print(y)"
   ]
  },
  {
   "cell_type": "code",
   "execution_count": 38,
   "metadata": {},
   "outputs": [
    {
     "data": {
      "text/plain": [
       "<matplotlib.collections.PathCollection at 0x19935f0>"
      ]
     },
     "execution_count": 38,
     "metadata": {},
     "output_type": "execute_result"
    },
    {
     "data": {
      "image/png": "[encoded data removed]",
      "text/plain": [
       "<matplotlib.figure.Figure at 0x14fb1b0>"
      ]
     },
     "metadata": {},
     "output_type": "display_data"
    }
   ],
   "source": [
    "plt.scatter(x,y,c='red')"
   ]
  },
  {
   "cell_type": "code",
   "execution_count": null,
   "metadata": {},
   "outputs": [],
   "source": []
  }
 ],
 "metadata": {
  "kernelspec": {
   "display_name": "Python 3",
   "language": "python",
   "name": "python3"
  },
  "language_info": {
   "codemirror_mode": {
    "name": "ipython",
    "version": 3
   },
   "file_extension": ".py",
   "mimetype": "text/x-python",
   "name": "python",
   "nbconvert_exporter": "python",
   "pygments_lexer": "ipython3",
   "version": "3.6.2"
  }
 },
 "nbformat": 4,
 "nbformat_minor": 2
}
