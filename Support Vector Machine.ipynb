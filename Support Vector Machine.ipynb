{
 "cells": [
  {
   "cell_type": "code",
   "execution_count": 3,
   "metadata": {},
   "outputs": [],
   "source": [
    "from sklearn import datasets\n",
    "from sklearn.cross_validation import train_test_split\n",
    "import numpy as numpy\n",
    "\n",
    "iris=datasets.load_iris()\n",
    "X=iris.data[:,[2,3]]\n",
    "y=iris.target\n",
    "X_train,X_test,y_train,y_test=train_test_split(X,y,test_size=0.3,random_state=0)\n",
    "\n",
    "from sklearn.preprocessing import StandardScaler\n",
    "\n",
    "sc=StandardScaler()\n",
    "sc.fit(X_train)\n",
    "\n",
    "X_train_std=sc.transform(X_train)\n",
    "X_test_std=sc.transform(X_test)\n"
   ]
  },
  {
   "cell_type": "code",
   "execution_count": null,
   "metadata": {},
   "outputs": [],
   "source": [
    "X_cncat_std=np.concatenate((X_train_std,X_test_std),axis=0)\n",
    "y_concat = np.concatenate((y_train,y_test),axis=0)\n",
    "\n",
    "x1_min,x1_max = X_concat_std[:,0].min()-1,X_concat_std[:,0].max()+1\n",
    "x2_min,x2_max = X_concat_std[:,1].min()-1,X_concat_std[:,1].max()+1\n",
    "\n",
    "intercal=0.02\n",
    "xx1,xx2=np.meshgrid(np.arange(x1_min,x1_max,interval),\n",
    "                    np,arange(X2_min,X2_max,interval))\n",
    "\n",
    "from sklearn.svm import SVC\n",
    "svm = AVC(kernel='linear',C=1.0,random_state=0)\n",
    "svm.fit(X_train_std,y_train)\n",
    "\n",
    "Z=svm.predict(np.array([xx1,ravel()]))\n",
    "\n",
    "\n",
    "                                "
   ]
  }
 ],
 "metadata": {
  "kernelspec": {
   "display_name": "Python 3",
   "language": "python",
   "name": "python3"
  },
  "language_info": {
   "codemirror_mode": {
    "name": "ipython",
    "version": 3
   },
   "file_extension": ".py",
   "mimetype": "text/x-python",
   "name": "python",
   "nbconvert_exporter": "python",
   "pygments_lexer": "ipython3",
   "version": "3.6.2"
  }
 },
 "nbformat": 4,
 "nbformat_minor": 2
}
